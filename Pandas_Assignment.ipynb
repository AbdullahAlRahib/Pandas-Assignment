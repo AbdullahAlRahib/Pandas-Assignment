{
  "nbformat": 4,
  "nbformat_minor": 0,
  "metadata": {
    "colab": {
      "provenance": []
    },
    "kernelspec": {
      "name": "python3",
      "display_name": "Python 3"
    },
    "language_info": {
      "name": "python"
    }
  },
  "cells": [
    {
      "cell_type": "code",
      "source": [
        "#Consider following code to answer further questions:\n",
        "import pandas as pd\n",
        "course_name = ['Data Science', 'Machine Learning', 'Big Data', 'Data Engineer']\n",
        "duration = [2,3,6,4]\n",
        "df = pd.DataFrame(data = {'course_name' : course_name, 'duration' : duration})"
      ],
      "metadata": {
        "id": "M4dSqqDgygsg"
      },
      "execution_count": 2,
      "outputs": []
    },
    {
      "cell_type": "markdown",
      "source": [
        "# **Q1**\n",
        "\n",
        "**Write a code to print the data present in the second row of the dataframe, df.**\n",
        "\n",
        "**Answer:**\n",
        "\n"
      ],
      "metadata": {
        "id": "0nN8oOPHcJoN"
      }
    },
    {
      "cell_type": "code",
      "source": [
        "df.iloc[1]"
      ],
      "metadata": {
        "id": "HKsFgS5do0qM",
        "colab": {
          "base_uri": "https://localhost:8080/"
        },
        "outputId": "47428b29-12cc-40e6-e2ec-19c162b1c468"
      },
      "execution_count": 3,
      "outputs": [
        {
          "output_type": "execute_result",
          "data": {
            "text/plain": [
              "course_name    Machine Learning\n",
              "duration                      3\n",
              "Name: 1, dtype: object"
            ]
          },
          "metadata": {},
          "execution_count": 3
        }
      ]
    },
    {
      "cell_type": "markdown",
      "source": [
        "# **Q2**\n",
        "\n",
        "**What is the difference between the functions loc and iloc in pandas.DataFrame?**\n",
        "\n",
        "\n",
        "**Answer:**\n",
        "\n",
        "loc is used for label-based indexing, and iloc is used for integer-based indexing. The choice between them depends on the specific requirements and structure of your DataFrame."
      ],
      "metadata": {
        "id": "zv4ERfdCcVO0"
      }
    },
    {
      "cell_type": "markdown",
      "source": [
        "# **Q3**\n",
        "\n",
        "**Reindex the given dataframe using a variable, reindex = [3,0,1,2] and store it in the variable, new_df\n",
        "then find the output for both new_df.loc[2] and new_df.iloc[2]..**\n",
        "\n",
        "\n",
        "**Answer:**\n",
        "\n"
      ],
      "metadata": {
        "id": "B03jhNgtcUTQ"
      }
    },
    {
      "cell_type": "code",
      "source": [
        "import numpy as np"
      ],
      "metadata": {
        "id": "TtOhD8XV0gZ7"
      },
      "execution_count": 4,
      "outputs": []
    },
    {
      "cell_type": "code",
      "source": [
        "columns = ['column_1', 'column_2', 'column_3', 'column_4', 'column_5', 'column_6']\n",
        "indices = [1, 2, 3, 4, 5, 6]\n",
        "\n",
        "# Creating a DataFrame\n",
        "df1 = pd.DataFrame(np.random.rand(6, 6), columns=columns, index=indices)\n",
        "\n",
        "reindex = [3, 0, 1, 2]\n",
        "\n",
        "# Reindexing the DataFrame\n",
        "new_df = df1.reindex(reindex)\n",
        "\n",
        "# Output of new_df.loc[2]\n",
        "print(\"Output of new_df.loc[2]:\")\n",
        "print(new_df.loc[2])\n",
        "\n",
        "# Output of new_df.iloc[2]\n",
        "print(\"\\nOutput of new_df.iloc[2]:\")\n",
        "print(new_df.iloc[2])"
      ],
      "metadata": {
        "colab": {
          "base_uri": "https://localhost:8080/"
        },
        "id": "vBRAy7yLpm_M",
        "outputId": "f068cd5b-f5db-44b1-d3ea-d07523a56f1e"
      },
      "execution_count": 12,
      "outputs": [
        {
          "output_type": "stream",
          "name": "stdout",
          "text": [
            "Output of new_df.loc[2]:\n",
            "column_1    0.912911\n",
            "column_2    0.492347\n",
            "column_3    0.097515\n",
            "column_4    0.646988\n",
            "column_5    0.355137\n",
            "column_6    0.995093\n",
            "Name: 2, dtype: float64\n",
            "\n",
            "Output of new_df.iloc[2]:\n",
            "column_1    0.635270\n",
            "column_2    0.501466\n",
            "column_3    0.943265\n",
            "column_4    0.932362\n",
            "column_5    0.440092\n",
            "column_6    0.337541\n",
            "Name: 1, dtype: float64\n"
          ]
        }
      ]
    },
    {
      "cell_type": "markdown",
      "source": [
        "we reindexed the DataFrame df1 using the reindex variable [3, 0, 1, 2]. The resulting DataFrame new_df has the rows reordered according to the new index.\n",
        "\n",
        "When accessing new_df.loc[2], we are using label-based indexing. It returns the row with the label 2, which corresponds to the third row in new_df. The output displays the values of the row with its original index.\n",
        "\n",
        "On the other hand, new_df.iloc[2] uses integer-based indexing. It returns the row at the integer position 2, which corresponds to the fourth row in new_df after reindexing. The output displays the values of the row with its new integer position.\n",
        "\n",
        "Therefore, there is a difference in the outputs of new_df.loc[2] and new_df.iloc[2]. The former returns the row based on the label, while the latter returns the row based on the integer position after reindexing."
      ],
      "metadata": {
        "id": "0ZWnY5450lwZ"
      }
    },
    {
      "cell_type": "markdown",
      "source": [
        "# **Q4**\n",
        "\n",
        "Write a code to find the following statistical measurements for the above dataframe df1:\n",
        "\n",
        "(i) mean of each and every column present in the dataframe.\n",
        "\n",
        "(ii) standard deviation of column, ‘column_2’\n",
        "\n",
        "**Answer:**\n",
        "\n"
      ],
      "metadata": {
        "id": "liCQbUQqcWEO"
      }
    },
    {
      "cell_type": "code",
      "source": [
        "# Calculate the mean of each column\n",
        "mean_columns = df1.mean()\n",
        "print(\"Mean of each column:\")\n",
        "print(mean_columns)\n",
        "\n",
        "# Calculate the standard deviation of 'column_2'\n",
        "std_column_2 = df1['column_2'].std()\n",
        "print(\"\\nStandard Deviation of 'column_2':\", std_column_2)"
      ],
      "metadata": {
        "colab": {
          "base_uri": "https://localhost:8080/"
        },
        "id": "rjoEh-7y3ddS",
        "outputId": "3af2b271-d912-42d7-967f-b6fcf5c4f6b8"
      },
      "execution_count": 13,
      "outputs": [
        {
          "output_type": "stream",
          "name": "stdout",
          "text": [
            "Mean of each column:\n",
            "column_1    0.527340\n",
            "column_2    0.436840\n",
            "column_3    0.648502\n",
            "column_4    0.645731\n",
            "column_5    0.478785\n",
            "column_6    0.516384\n",
            "dtype: float64\n",
            "\n",
            "Standard Deviation of 'column_2': 0.2218256996202705\n"
          ]
        }
      ]
    },
    {
      "cell_type": "markdown",
      "source": [
        "\n",
        "# **Q5**\n",
        "\n",
        "**Replace the data present in the second row of column, ‘column_2’ by a string variable then find the\n",
        "mean of column, column_2.\n",
        "If you are getting errors in executing it then explain why.\n",
        "[Hint: To replace the data use df1.loc[] and equate this to string data of your choice.]**\n",
        "\n",
        "**Answer:**\n",
        "\n"
      ],
      "metadata": {
        "id": "_xz9rQ_GcXC5"
      }
    },
    {
      "cell_type": "code",
      "source": [
        "# Replace the data in the second row of 'column_2' with a string variable\n",
        "df1.loc[2, 'column_2'] = 'New String Data'\n",
        "\n",
        "# Convert 'column_2' to numeric type (if it's not already)\n",
        "df1['column_2'] = pd.to_numeric(df1['column_2'], errors='coerce')\n",
        "\n",
        "# Calculate the mean of 'column_2'\n",
        "mean_column_2 = df1['column_2'].mean()\n",
        "\n",
        "print(\"Mean of column 'column_2':\", mean_column_2)"
      ],
      "metadata": {
        "colab": {
          "base_uri": "https://localhost:8080/"
        },
        "id": "09h7miScsa1Y",
        "outputId": "59fa1f2a-88e1-41fa-bc87-dc376fdd9045"
      },
      "execution_count": 14,
      "outputs": [
        {
          "output_type": "stream",
          "name": "stdout",
          "text": [
            "Mean of column 'column_2': 0.42573843109638104\n"
          ]
        }
      ]
    },
    {
      "cell_type": "markdown",
      "source": [
        "# **Q6**\n",
        "\n",
        "**What do you understand about the windows function in pandas and list the types of windows functions?**\n",
        "\n",
        "**Answer:**\n",
        "\n"
      ],
      "metadata": {
        "id": "KgZEsqZHswgi"
      }
    },
    {
      "cell_type": "markdown",
      "source": [
        "a window function, also known as a rolling or moving function, operates on a specified window or a subset of data points within a DataFrame. It performs a computation over a sliding window of data and produces a new output column based on that computation.\n",
        "\n",
        " * Rolling Window Functions: These functions perform calculations over a specified window of consecutive data points. The window can be defined by the number of rows or a time period. Examples include rolling.mean(), rolling.sum(), rolling.min(), rolling.max(), etc.\n",
        "\n",
        " * Expanding Window Functions: These functions calculate statistics cumulatively, including all the preceding data points up to the current row. The window size grows as more data is included. Examples include expanding.mean(), expanding.sum(), expanding.min(), expanding.max(), etc.\n",
        "\n",
        " * Exponentially Weighted Window Functions: These functions assign weights to each data point based on its position in the window. The weights decrease exponentially as you move further from the current row. Examples include ewm.mean(), ewm.var(), ewm.std(), etc.\n",
        "\n",
        " * Rolling Time Window Functions: These functions operate on time-based windows defined by a time period or frequency. They allow calculations over rolling time intervals, such as hours, days, or months. Examples include rolling('2D').mean(), rolling('1H').sum(), rolling('3M').max(), etc."
      ],
      "metadata": {
        "id": "QG4SFsX55J_C"
      }
    },
    {
      "cell_type": "markdown",
      "source": [
        "# **Q7**\n",
        "\n",
        "**Write a code to print only the current month and year at the time of answering this question.\n",
        "[Hint: Use pandas.datetime function]**\n",
        "\n",
        "**Answer:**\n",
        "\n"
      ],
      "metadata": {
        "id": "apNqvdhzszi-"
      }
    },
    {
      "cell_type": "code",
      "source": [
        "# Get the current date and time\n",
        "current_datetime = pd.datetime.now()\n",
        "\n",
        "# Extract the month and year from the current date\n",
        "current_month = current_datetime.month\n",
        "current_year = current_datetime.year\n",
        "\n",
        "# Print the current month and year\n",
        "print(\"Current Month:\", current_month)\n",
        "print(\"Current Year:\", current_year)\n"
      ],
      "metadata": {
        "colab": {
          "base_uri": "https://localhost:8080/"
        },
        "id": "db0vnVoltku2",
        "outputId": "8ae0d1dd-8911-4fbb-8af9-511cff876cfa"
      },
      "execution_count": 15,
      "outputs": [
        {
          "output_type": "stream",
          "name": "stdout",
          "text": [
            "Current Month: 7\n",
            "Current Year: 2023\n"
          ]
        },
        {
          "output_type": "stream",
          "name": "stderr",
          "text": [
            "<ipython-input-15-5b8e2c98394a>:2: FutureWarning: The pandas.datetime class is deprecated and will be removed from pandas in a future version. Import from datetime module instead.\n",
            "  current_datetime = pd.datetime.now()\n"
          ]
        }
      ]
    },
    {
      "cell_type": "markdown",
      "source": [
        "# **Q8**\n",
        "\n",
        "**Write a Python program that takes in two dates as input (in the format YYYY-MM-DD) and calculates the difference between them in days, hours, and minutes using Pandas time delta. Theprogram should prompt the user to enter the dates and display the result.**\n",
        "\n",
        "**Answer:**\n",
        "\n"
      ],
      "metadata": {
        "id": "3G0ciV2Ps1aB"
      }
    },
    {
      "cell_type": "code",
      "source": [
        "# Prompt the user to enter the first date\n",
        "date1 = input(\"Enter the first date (YYYY-MM-DD): \")\n",
        "\n",
        "# Prompt the user to enter the second date\n",
        "date2 = input(\"Enter the second date (YYYY-MM-DD): \")\n",
        "\n",
        "# Convert the input dates to datetime objects\n",
        "date1 = pd.to_datetime(date1)\n",
        "date2 = pd.to_datetime(date2)\n",
        "\n",
        "# Calculate the time difference using timedelta\n",
        "time_diff = date2 - date1\n",
        "\n",
        "# Extract the days, hours, and minutes from the time difference\n",
        "days = time_diff.days\n",
        "hours = time_diff.seconds // 3600\n",
        "minutes = (time_diff.seconds % 3600) // 60\n",
        "\n",
        "# Display the result\n",
        "print(\"Time Difference:\")\n",
        "print(\"Days:\", days)\n",
        "print(\"Hours:\", hours)\n",
        "print(\"Minutes:\", minutes)"
      ],
      "metadata": {
        "colab": {
          "base_uri": "https://localhost:8080/"
        },
        "id": "B76IdS_3uYVq",
        "outputId": "3b083aba-9e53-4304-ce45-73ef1332712d"
      },
      "execution_count": 16,
      "outputs": [
        {
          "output_type": "stream",
          "name": "stdout",
          "text": [
            "Enter the first date (YYYY-MM-DD): 2023-05-12\n",
            "Enter the second date (YYYY-MM-DD): 2023-06-14\n",
            "Time Difference:\n",
            "Days: 33\n",
            "Hours: 0\n",
            "Minutes: 0\n"
          ]
        }
      ]
    },
    {
      "cell_type": "markdown",
      "source": [
        "# **Q9**\n",
        "\n",
        "**Write a Python program that reads a CSV file containing categorical data and converts a specified column to a categorical data type. The program should prompt the user to enter the file path, column name, and category order, and then display the sorted data.**\n",
        "\n",
        "**Answer:**\n",
        "\n"
      ],
      "metadata": {
        "id": "KRYr3D2Vs3hV"
      }
    },
    {
      "cell_type": "code",
      "source": [
        "# Prompt the user to enter the file path\n",
        "file_path = input(\"Enter the file path of the CSV file: \")\n",
        "\n",
        "# Read the CSV file into a DataFrame\n",
        "df = pd.read_csv(file_path)\n",
        "\n",
        "# Prompt the user to enter the column name\n",
        "column_name = input(\"Enter the column name to convert to categorical: \")\n",
        "\n",
        "# Prompt the user to enter the category order\n",
        "category_order = input(\"Enter the category order (comma-separated): \")\n",
        "category_order = [x.strip() for x in category_order.split(\",\")]\n",
        "\n",
        "# Convert the specified column to categorical data type with specified category order\n",
        "df[column_name] = pd.Categorical(df[column_name], categories=category_order, ordered=True)\n",
        "\n",
        "# Sort the DataFrame based on the specified column\n",
        "df_sorted = df.sort_values(column_name)\n",
        "\n",
        "# Display the sorted data\n",
        "print(\"Sorted Data:\")\n",
        "print(df_sorted)"
      ],
      "metadata": {
        "id": "EGySehMRuxGe"
      },
      "execution_count": null,
      "outputs": []
    },
    {
      "cell_type": "markdown",
      "source": [
        "# **Q10**\n",
        "\n",
        "**Write a Python program that reads a CSV file containing sales data for different products and visualizes the data using a stacked bar chart to show the sales of each product category over time. The program should prompt the user to enter the file path and display the chart.**\n",
        "\n",
        "**Answer:**\n",
        "\n"
      ],
      "metadata": {
        "id": "k4UDJ4dDs44K"
      }
    },
    {
      "cell_type": "code",
      "source": [
        "import matplotlib.pyplot as plt"
      ],
      "metadata": {
        "id": "X_xoOfuk65pJ"
      },
      "execution_count": 17,
      "outputs": []
    },
    {
      "cell_type": "code",
      "source": [
        "# Prompt the user to enter the file path\n",
        "file_path = input(\"Enter the file path of the CSV file: \")\n",
        "\n",
        "# Read the CSV file into a DataFrame\n",
        "df = pd.read_csv(file_path)\n",
        "\n",
        "# Convert the 'Date' column to datetime data type\n",
        "df['Date'] = pd.to_datetime(df['Date'])\n",
        "\n",
        "# Group the data by product category and date, and calculate the total sales for each category\n",
        "sales_data = df.groupby(['Category', 'Date']).sum()['Sales'].unstack()\n",
        "\n",
        "# Plot the stacked bar chart\n",
        "sales_data.plot(kind='bar', stacked=True, figsize=(10, 6))\n",
        "\n",
        "# Set the labels and title\n",
        "plt.xlabel('Date')\n",
        "plt.ylabel('Sales')\n",
        "plt.title('Sales of Each Product Category Over Time')\n",
        "\n",
        "# Display the chart\n",
        "plt.show()"
      ],
      "metadata": {
        "id": "yBMl4xXu7C35"
      },
      "execution_count": null,
      "outputs": []
    },
    {
      "cell_type": "markdown",
      "source": [
        "# **Q11**\n",
        "\n",
        "You are given a CSV file containing student data that includes the student ID and their test score. Write\n",
        "a Python program that reads the CSV file, calculates the mean, median, and mode of the test scores, and\n",
        "displays the results in a table.\n",
        "\n",
        "The program should do the following:\n",
        "\n",
        " * Prompt the user to enter the file path of the CSV file containing the student dataR\n",
        " *  Read the CSV file into a Pandas DataFrameR\n",
        " *   Calculate the mean, median, and mode of the test scores using Pandas toolsR\n",
        " *  Display the mean, median, and mode in a table.\n",
        "\n",
        "Assume the CSV file contains the following columns:\n",
        "\n",
        " *  Student ID: The ID of the studentR\n",
        " *  Test Score: The score of the student's test.\n",
        "Example usage of the program:\n",
        "Enter the file path of the CSV file containing the student data: student_data.csv\n",
        "\n",
        "    +-----------+--------+\n",
        "    | Statistic | Value |\n",
        "    +-----------+--------+\n",
        "    | Mean | 79.6 |\n",
        "    | Median | 82 |\n",
        "    | Mode | 85, 90 |\n",
        "    +-----------+--------+\n",
        "\n",
        "Assume that the CSV file student_data.csv contains the following data:\n",
        "Student ID,Test Score\n",
        "\n",
        "    1,85\n",
        "    2,90\n",
        "    3,80\n",
        "    4,75\n",
        "    5,85\n",
        "    6,82\n",
        "    7,78\n",
        "    8,85\n",
        "    9,90\n",
        "    10,85\n",
        "\n",
        "The program should calculate the mean, median, and mode of the test scores and display the results\n",
        "in a table.\n",
        "\n",
        "**Answer:**\n",
        "\n"
      ],
      "metadata": {
        "id": "lJX4r6nKs6bG"
      }
    },
    {
      "cell_type": "code",
      "source": [
        "from tabulate import tabulate"
      ],
      "metadata": {
        "id": "T-_tiPiz762E"
      },
      "execution_count": 19,
      "outputs": []
    },
    {
      "cell_type": "code",
      "source": [
        "# Prompt the user to enter the file path\n",
        "file_path = input(\"Enter the file path of the CSV file containing the student data: \")\n",
        "\n",
        "# Read the CSV file into a DataFrame\n",
        "df = pd.read_csv(file_path)\n",
        "\n",
        "# Calculate the mean, median, and mode of the test scores\n",
        "mean_score = df['Test Score'].mean()\n",
        "median_score = df['Test Score'].median()\n",
        "mode_scores = df['Test Score'].mode()\n",
        "\n",
        "# Create a table to display the results\n",
        "results_table = [\n",
        "    [\"Statistic\", \"Value\"],\n",
        "    [\"Mean\", mean_score],\n",
        "    [\"Median\", median_score],\n",
        "    [\"Mode\", \", \".join(str(x) for x in mode_scores)]\n",
        "]\n",
        "\n",
        "# Display the table\n",
        "print(tabulate(results_table, headers=\"firstrow\", tablefmt=\"grid\"))\n"
      ],
      "metadata": {
        "id": "ubkTYb-kxYLr"
      },
      "execution_count": null,
      "outputs": []
    }
  ]
}